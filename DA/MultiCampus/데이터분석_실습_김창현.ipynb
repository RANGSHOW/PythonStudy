{
 "cells": [
  {
   "cell_type": "markdown",
   "metadata": {},
   "source": [
    "# 주제 선정\n",
    "- ### 서울시 전체 호텔 등급 현황\n",
    "- ### 서울시 행정 구별 호텔 등급 분포\n"
   ]
  },
  {
   "cell_type": "markdown",
   "metadata": {},
   "source": [
    "# 데이터 수집\n",
    "    - 서울 열린 데이터 광장 \"서울특별시_호텔리스트 현황\" \n",
    "        - 파일명: Seoul_hotel_list.csv\n",
    "    - 수업 중 \"한국 지리 정보\"\n",
    "        - 파일명: skorea_municipalities_geo_simple.json"
   ]
  },
  {
   "cell_type": "markdown",
   "metadata": {},
   "source": [
    "# 전처리"
   ]
  },
  {
   "cell_type": "code",
   "execution_count": 80,
   "metadata": {},
   "outputs": [],
   "source": [
    "import numpy as np\n",
    "import pandas as pd\n",
    "import seaborn as sns\n",
    "import matplotlib.pyplot as plt\n",
    "%matplotlib inline\n",
    "\n",
    "import platform\n",
    "\n",
    "from matplotlib import font_manager, rc\n",
    "plt.rcParams['axes.unicode_minus'] = False\n",
    "\n",
    "if platform.system() == 'Darwin':  # 맥OS \n",
    "    rc('font', family='AppleGothic')\n",
    "elif platform.system() == 'Windows':  # 윈도우\n",
    "    path = \"c:/Windows/Fonts/malgun.ttf\"\n",
    "    font_name = font_manager.FontProperties(fname=path).get_name()\n",
    "    rc('font', family=font_name)\n",
    "else:\n",
    "    print('Unknown system...  sorry~~~')"
   ]
  },
  {
   "cell_type": "code",
   "execution_count": 84,
   "metadata": {},
   "outputs": [
    {
     "data": {
      "text/html": [
       "<div>\n",
       "<style scoped>\n",
       "    .dataframe tbody tr th:only-of-type {\n",
       "        vertical-align: middle;\n",
       "    }\n",
       "\n",
       "    .dataframe tbody tr th {\n",
       "        vertical-align: top;\n",
       "    }\n",
       "\n",
       "    .dataframe thead th {\n",
       "        text-align: right;\n",
       "    }\n",
       "</style>\n",
       "<table border=\"1\" class=\"dataframe\">\n",
       "  <thead>\n",
       "    <tr style=\"text-align: right;\">\n",
       "      <th></th>\n",
       "      <th>메인 키</th>\n",
       "      <th>분류1</th>\n",
       "      <th>분류2</th>\n",
       "      <th>분류3</th>\n",
       "      <th>분류4</th>\n",
       "      <th>검색어</th>\n",
       "      <th>명칭</th>\n",
       "      <th>지번 주소</th>\n",
       "      <th>도로명 주소</th>\n",
       "      <th>행정 시</th>\n",
       "      <th>행정 구</th>\n",
       "      <th>행정 동</th>\n",
       "    </tr>\n",
       "  </thead>\n",
       "  <tbody>\n",
       "    <tr>\n",
       "      <th>0</th>\n",
       "      <td>BE_LiST37-0001</td>\n",
       "      <td>관광/숙박</td>\n",
       "      <td>숙박</td>\n",
       "      <td>특1급호텔</td>\n",
       "      <td>NaN</td>\n",
       "      <td>JW메리어트/호텔서울</td>\n",
       "      <td>JW메리어트호텔서울</td>\n",
       "      <td>NaN</td>\n",
       "      <td>NaN</td>\n",
       "      <td>서울특별시</td>\n",
       "      <td>서초구</td>\n",
       "      <td>반포4동</td>\n",
       "    </tr>\n",
       "    <tr>\n",
       "      <th>1</th>\n",
       "      <td>BE_LiST37-0002</td>\n",
       "      <td>관광/숙박</td>\n",
       "      <td>숙박</td>\n",
       "      <td>특1급호텔</td>\n",
       "      <td>NaN</td>\n",
       "      <td>메리어트 이그제큐티브 아파트먼트</td>\n",
       "      <td>메리어트 이그제큐티브 아파트먼트</td>\n",
       "      <td>NaN</td>\n",
       "      <td>NaN</td>\n",
       "      <td>서울특별시</td>\n",
       "      <td>영등포구</td>\n",
       "      <td>여의동</td>\n",
       "    </tr>\n",
       "    <tr>\n",
       "      <th>2</th>\n",
       "      <td>BE_LiST37-0003</td>\n",
       "      <td>관광/숙박</td>\n",
       "      <td>숙박</td>\n",
       "      <td>특1급호텔</td>\n",
       "      <td>NaN</td>\n",
       "      <td>W워커힐</td>\n",
       "      <td>W워커힐</td>\n",
       "      <td>NaN</td>\n",
       "      <td>NaN</td>\n",
       "      <td>서울특별시</td>\n",
       "      <td>광진구</td>\n",
       "      <td>광장동</td>\n",
       "    </tr>\n",
       "    <tr>\n",
       "      <th>3</th>\n",
       "      <td>BE_LiST37-0004</td>\n",
       "      <td>관광/숙박</td>\n",
       "      <td>숙박</td>\n",
       "      <td>특1급호텔</td>\n",
       "      <td>NaN</td>\n",
       "      <td>그랜드앰배서더/호텔서울</td>\n",
       "      <td>그랜드앰배서더호텔서울</td>\n",
       "      <td>NaN</td>\n",
       "      <td>NaN</td>\n",
       "      <td>서울특별시</td>\n",
       "      <td>중구</td>\n",
       "      <td>장충동</td>\n",
       "    </tr>\n",
       "    <tr>\n",
       "      <th>4</th>\n",
       "      <td>BE_LiST37-0005</td>\n",
       "      <td>관광/숙박</td>\n",
       "      <td>숙박</td>\n",
       "      <td>특1급호텔</td>\n",
       "      <td>NaN</td>\n",
       "      <td>그랜드인터컨티넨탈/서울파르나스</td>\n",
       "      <td>그랜드인터컨티넨탈서울파르나스</td>\n",
       "      <td>NaN</td>\n",
       "      <td>NaN</td>\n",
       "      <td>서울특별시</td>\n",
       "      <td>강남구</td>\n",
       "      <td>삼성1동</td>\n",
       "    </tr>\n",
       "  </tbody>\n",
       "</table>\n",
       "</div>"
      ],
      "text/plain": [
       "             메인 키    분류1 분류2    분류3  분류4                검색어  \\\n",
       "0  BE_LiST37-0001  관광/숙박  숙박  특1급호텔  NaN        JW메리어트/호텔서울   \n",
       "1  BE_LiST37-0002  관광/숙박  숙박  특1급호텔  NaN  메리어트 이그제큐티브 아파트먼트   \n",
       "2  BE_LiST37-0003  관광/숙박  숙박  특1급호텔  NaN               W워커힐   \n",
       "3  BE_LiST37-0004  관광/숙박  숙박  특1급호텔  NaN       그랜드앰배서더/호텔서울   \n",
       "4  BE_LiST37-0005  관광/숙박  숙박  특1급호텔  NaN   그랜드인터컨티넨탈/서울파르나스   \n",
       "\n",
       "                  명칭  지번 주소  도로명 주소   행정 시  행정 구  행정 동  \n",
       "0         JW메리어트호텔서울    NaN     NaN  서울특별시   서초구  반포4동  \n",
       "1  메리어트 이그제큐티브 아파트먼트    NaN     NaN  서울특별시  영등포구   여의동  \n",
       "2               W워커힐    NaN     NaN  서울특별시   광진구   광장동  \n",
       "3        그랜드앰배서더호텔서울    NaN     NaN  서울특별시    중구   장충동  \n",
       "4    그랜드인터컨티넨탈서울파르나스    NaN     NaN  서울특별시   강남구  삼성1동  "
      ]
     },
     "execution_count": 84,
     "metadata": {},
     "output_type": "execute_result"
    }
   ],
   "source": [
    "seoulHotelList = pd.read_csv(\"../data/Seoul_hotel_list.csv\")\n",
    "seoulHotelList.head() \n",
    "# 추가 사항"
   ]
  },
  {
   "cell_type": "code",
   "execution_count": 85,
   "metadata": {},
   "outputs": [
    {
     "data": {
      "text/html": [
       "<div>\n",
       "<style scoped>\n",
       "    .dataframe tbody tr th:only-of-type {\n",
       "        vertical-align: middle;\n",
       "    }\n",
       "\n",
       "    .dataframe tbody tr th {\n",
       "        vertical-align: top;\n",
       "    }\n",
       "\n",
       "    .dataframe thead th {\n",
       "        text-align: right;\n",
       "    }\n",
       "</style>\n",
       "<table border=\"1\" class=\"dataframe\">\n",
       "  <thead>\n",
       "    <tr style=\"text-align: right;\">\n",
       "      <th></th>\n",
       "      <th>분류3</th>\n",
       "      <th>명칭</th>\n",
       "      <th>행정 구</th>\n",
       "    </tr>\n",
       "  </thead>\n",
       "  <tbody>\n",
       "    <tr>\n",
       "      <th>0</th>\n",
       "      <td>특1급호텔</td>\n",
       "      <td>JW메리어트호텔서울</td>\n",
       "      <td>서초구</td>\n",
       "    </tr>\n",
       "    <tr>\n",
       "      <th>1</th>\n",
       "      <td>특1급호텔</td>\n",
       "      <td>메리어트 이그제큐티브 아파트먼트</td>\n",
       "      <td>영등포구</td>\n",
       "    </tr>\n",
       "    <tr>\n",
       "      <th>2</th>\n",
       "      <td>특1급호텔</td>\n",
       "      <td>W워커힐</td>\n",
       "      <td>광진구</td>\n",
       "    </tr>\n",
       "    <tr>\n",
       "      <th>3</th>\n",
       "      <td>특1급호텔</td>\n",
       "      <td>그랜드앰배서더호텔서울</td>\n",
       "      <td>중구</td>\n",
       "    </tr>\n",
       "    <tr>\n",
       "      <th>4</th>\n",
       "      <td>특1급호텔</td>\n",
       "      <td>그랜드인터컨티넨탈서울파르나스</td>\n",
       "      <td>강남구</td>\n",
       "    </tr>\n",
       "    <tr>\n",
       "      <th>...</th>\n",
       "      <td>...</td>\n",
       "      <td>...</td>\n",
       "      <td>...</td>\n",
       "    </tr>\n",
       "    <tr>\n",
       "      <th>154</th>\n",
       "      <td>호텔 기타</td>\n",
       "      <td>CF호텔</td>\n",
       "      <td>송파구</td>\n",
       "    </tr>\n",
       "    <tr>\n",
       "      <th>155</th>\n",
       "      <td>호텔 기타</td>\n",
       "      <td>갤러리호텔</td>\n",
       "      <td>은평구</td>\n",
       "    </tr>\n",
       "    <tr>\n",
       "      <th>156</th>\n",
       "      <td>호텔 기타</td>\n",
       "      <td>서울파트너스하우스</td>\n",
       "      <td>용산구</td>\n",
       "    </tr>\n",
       "    <tr>\n",
       "      <th>157</th>\n",
       "      <td>호텔 기타</td>\n",
       "      <td>세림호텔</td>\n",
       "      <td>종로구</td>\n",
       "    </tr>\n",
       "    <tr>\n",
       "      <th>158</th>\n",
       "      <td>호텔 기타</td>\n",
       "      <td>젤리호텔</td>\n",
       "      <td>강남구</td>\n",
       "    </tr>\n",
       "  </tbody>\n",
       "</table>\n",
       "<p>159 rows × 3 columns</p>\n",
       "</div>"
      ],
      "text/plain": [
       "       분류3                 명칭  행정 구\n",
       "0    특1급호텔         JW메리어트호텔서울   서초구\n",
       "1    특1급호텔  메리어트 이그제큐티브 아파트먼트  영등포구\n",
       "2    특1급호텔               W워커힐   광진구\n",
       "3    특1급호텔        그랜드앰배서더호텔서울    중구\n",
       "4    특1급호텔    그랜드인터컨티넨탈서울파르나스   강남구\n",
       "..     ...                ...   ...\n",
       "154  호텔 기타               CF호텔   송파구\n",
       "155  호텔 기타              갤러리호텔   은평구\n",
       "156  호텔 기타          서울파트너스하우스   용산구\n",
       "157  호텔 기타               세림호텔   종로구\n",
       "158  호텔 기타               젤리호텔   강남구\n",
       "\n",
       "[159 rows x 3 columns]"
      ]
     },
     "execution_count": 85,
     "metadata": {},
     "output_type": "execute_result"
    }
   ],
   "source": [
    "# 필요 없는 column 삭제\n",
    "del seoulHotelList['메인 키']\n",
    "del seoulHotelList['분류1']\n",
    "del seoulHotelList['분류2']\n",
    "del seoulHotelList['분류4']\n",
    "del seoulHotelList['검색어']\n",
    "del seoulHotelList['지번 주소']\n",
    "del seoulHotelList['도로명 주소']\n",
    "del seoulHotelList['행정 시']\n",
    "del seoulHotelList['행정 동']\n",
    "\n",
    "seoulHotelList"
   ]
  },
  {
   "cell_type": "markdown",
   "metadata": {},
   "source": [
    "# 시각화"
   ]
  },
  {
   "cell_type": "markdown",
   "metadata": {},
   "source": [
    "## 서울특별시 전체 호텔 분류 현황"
   ]
  },
  {
   "cell_type": "code",
   "execution_count": 86,
   "metadata": {},
   "outputs": [
    {
     "data": {
      "image/png": "[encoded data removed]",
      "text/plain": [
       "<Figure size 720x720 with 1 Axes>"
      ]
     },
     "metadata": {},
     "output_type": "display_data"
    }
   ],
   "source": [
    "# 호텔 분류 coloumn만 가져와 호텔 분류 리스트 만들기\n",
    "hotelClassList = seoulHotelList['분류3']\n",
    "\n",
    "hotelKey = list(hotelClassList.unique())  # 호텔 분류 리스트에서 key 가져오기\n",
    "ratio = hotelClassList.value_counts()  # 호텔 분류 key 마다 빈도 가져오기\n",
    "\n",
    "# 파이 차트 그리기\n",
    "plt.figure(figsize=(10, 10))\n",
    "plt.title('서울시 전체 호텔 분류 현황', fontsize=20)\n",
    "\n",
    "colors = sns.color_palette('RdPu',len(hotelKey))  # 키 갯수만큼 색깔 받아오기\n",
    "         \n",
    "plt.pie(ratio, \n",
    "        labels=hotelKey, \n",
    "        autopct='%.1f%%',  # 포메팅\n",
    "        counterclock=False,  # 시계 방향으로 큰 비율부터 표시\n",
    "        startangle=90,  # 90도부터 시작\n",
    "        colors=colors,\n",
    "        textprops={'fontsize': 20})\n",
    "plt.show()"
   ]
  },
  {
   "cell_type": "markdown",
   "metadata": {},
   "source": [
    "## 서울시 행정 구별 특1급 호텔 분포 현황"
   ]
  },
  {
   "cell_type": "code",
   "execution_count": 99,
   "metadata": {},
   "outputs": [
    {
     "data": {
      "text/plain": [
       "['서초구',\n",
       " '영등포구',\n",
       " '광진구',\n",
       " '중구',\n",
       " '강남구',\n",
       " '용산구',\n",
       " '서대문구',\n",
       " '강서구',\n",
       " '송파구',\n",
       " '구로구',\n",
       " '금천구',\n",
       " '마포구',\n",
       " '성북구',\n",
       " '동대문구',\n",
       " '노원구',\n",
       " '강북구',\n",
       " '종로구',\n",
       " '성동구',\n",
       " '중랑구',\n",
       " '강동구',\n",
       " '은평구',\n",
       " '도봉구',\n",
       " '관악구']"
      ]
     },
     "execution_count": 99,
     "metadata": {},
     "output_type": "execute_result"
    }
   ],
   "source": [
    "sectList = list(seoulHotelList['행정 구'].unique())\n",
    "sectList"
   ]
  },
  {
   "cell_type": "code",
   "execution_count": 100,
   "metadata": {},
   "outputs": [
    {
     "data": {
      "text/plain": [
       "0      특1급호텔\n",
       "1      특1급호텔\n",
       "2      특1급호텔\n",
       "3      특1급호텔\n",
       "4      특1급호텔\n",
       "       ...  \n",
       "154    호텔 기타\n",
       "155    호텔 기타\n",
       "156    호텔 기타\n",
       "157    호텔 기타\n",
       "158    호텔 기타\n",
       "Name: 분류3, Length: 159, dtype: object"
      ]
     },
     "execution_count": 100,
     "metadata": {},
     "output_type": "execute_result"
    }
   ],
   "source": [
    "seoulHotelList['행정 구']\n",
    "(seoulHotelList['분류3'])"
   ]
  },
  {
   "cell_type": "code",
   "execution_count": 92,
   "metadata": {},
   "outputs": [],
   "source": [
    "import folium\n",
    "import json\n",
    "import warnings\n",
    "warnings.simplefilter(action='ignore', category=FutureWarning)"
   ]
  },
  {
   "cell_type": "code",
   "execution_count": 93,
   "metadata": {},
   "outputs": [],
   "source": [
    "geoPath = '../data/skorea_municipalities_geo_simple.json'\n",
    "geoStr = json.load(open(geoPath, encoding='UTF-8'))"
   ]
  },
  {
   "cell_type": "code",
   "execution_count": 96,
   "metadata": {},
   "outputs": [
    {
     "ename": "TypeError",
     "evalue": "ufunc 'isnan' not supported for the input types, and the inputs could not be safely coerced to any supported types according to the casting rule ''safe''",
     "output_type": "error",
     "traceback": [
      "\u001b[1;31m---------------------------------------------------------------------------\u001b[0m",
      "\u001b[1;31mTypeError\u001b[0m                                 Traceback (most recent call last)",
      "\u001b[1;32m<ipython-input-96-b44c2b031ce5>\u001b[0m in \u001b[0;36m<module>\u001b[1;34m\u001b[0m\n\u001b[0;32m      1\u001b[0m \u001b[0mmap\u001b[0m \u001b[1;33m=\u001b[0m \u001b[0mfolium\u001b[0m\u001b[1;33m.\u001b[0m\u001b[0mMap\u001b[0m\u001b[1;33m(\u001b[0m\u001b[0mlocation\u001b[0m\u001b[1;33m=\u001b[0m\u001b[1;33m[\u001b[0m\u001b[1;36m36.2002\u001b[0m\u001b[1;33m,\u001b[0m \u001b[1;36m127.054\u001b[0m\u001b[1;33m]\u001b[0m\u001b[1;33m,\u001b[0m \u001b[0mzoom_start\u001b[0m\u001b[1;33m=\u001b[0m\u001b[1;36m7\u001b[0m\u001b[1;33m)\u001b[0m\u001b[1;33m\u001b[0m\u001b[1;33m\u001b[0m\u001b[0m\n\u001b[1;32m----> 2\u001b[1;33m map.choropleth(geo_data = geoStr,\n\u001b[0m\u001b[0;32m      3\u001b[0m               \u001b[0mdata\u001b[0m\u001b[1;33m=\u001b[0m\u001b[0mseoulHotelList\u001b[0m\u001b[1;33m[\u001b[0m\u001b[1;34m'행정 구'\u001b[0m\u001b[1;33m]\u001b[0m\u001b[1;33m,\u001b[0m\u001b[1;33m\u001b[0m\u001b[1;33m\u001b[0m\u001b[0m\n\u001b[0;32m      4\u001b[0m               \u001b[0mcolumns\u001b[0m\u001b[1;33m=\u001b[0m\u001b[1;33m[\u001b[0m\u001b[0mseoulHotelList\u001b[0m\u001b[1;33m[\u001b[0m\u001b[1;34m'행정 구'\u001b[0m\u001b[1;33m]\u001b[0m\u001b[1;33m,\u001b[0m \u001b[0mseoulHotelList\u001b[0m\u001b[1;33m[\u001b[0m\u001b[1;34m'행정 구'\u001b[0m\u001b[1;33m]\u001b[0m\u001b[1;33m]\u001b[0m\u001b[1;33m,\u001b[0m\u001b[1;33m\u001b[0m\u001b[1;33m\u001b[0m\u001b[0m\n\u001b[0;32m      5\u001b[0m               \u001b[0mfill_color\u001b[0m\u001b[1;33m=\u001b[0m\u001b[1;34m'YlGnBu'\u001b[0m\u001b[1;33m,\u001b[0m\u001b[1;33m\u001b[0m\u001b[1;33m\u001b[0m\u001b[0m\n",
      "\u001b[1;32mC:\\Anaconda3\\lib\\site-packages\\folium\\folium.py\u001b[0m in \u001b[0;36mchoropleth\u001b[1;34m(self, *args, **kwargs)\u001b[0m\n\u001b[0;32m    414\u001b[0m         )\n\u001b[0;32m    415\u001b[0m         \u001b[1;32mfrom\u001b[0m \u001b[0mfolium\u001b[0m\u001b[1;33m.\u001b[0m\u001b[0mfeatures\u001b[0m \u001b[1;32mimport\u001b[0m \u001b[0mChoropleth\u001b[0m\u001b[1;33m\u001b[0m\u001b[1;33m\u001b[0m\u001b[0m\n\u001b[1;32m--> 416\u001b[1;33m         \u001b[0mself\u001b[0m\u001b[1;33m.\u001b[0m\u001b[0madd_child\u001b[0m\u001b[1;33m(\u001b[0m\u001b[0mChoropleth\u001b[0m\u001b[1;33m(\u001b[0m\u001b[1;33m*\u001b[0m\u001b[0margs\u001b[0m\u001b[1;33m,\u001b[0m \u001b[1;33m**\u001b[0m\u001b[0mkwargs\u001b[0m\u001b[1;33m)\u001b[0m\u001b[1;33m)\u001b[0m\u001b[1;33m\u001b[0m\u001b[1;33m\u001b[0m\u001b[0m\n\u001b[0m\u001b[0;32m    417\u001b[0m \u001b[1;33m\u001b[0m\u001b[0m\n\u001b[0;32m    418\u001b[0m     \u001b[1;32mdef\u001b[0m \u001b[0mkeep_in_front\u001b[0m\u001b[1;33m(\u001b[0m\u001b[0mself\u001b[0m\u001b[1;33m,\u001b[0m \u001b[1;33m*\u001b[0m\u001b[0margs\u001b[0m\u001b[1;33m)\u001b[0m\u001b[1;33m:\u001b[0m\u001b[1;33m\u001b[0m\u001b[1;33m\u001b[0m\u001b[0m\n",
      "\u001b[1;32mC:\\Anaconda3\\lib\\site-packages\\folium\\features.py\u001b[0m in \u001b[0;36m__init__\u001b[1;34m(self, geo_data, data, columns, key_on, bins, fill_color, nan_fill_color, fill_opacity, nan_fill_opacity, line_color, line_weight, line_opacity, name, legend_name, overlay, control, show, topojson, smooth_factor, highlight, **kwargs)\u001b[0m\n\u001b[0;32m   1211\u001b[0m         \u001b[1;32mif\u001b[0m \u001b[0mcolor_data\u001b[0m \u001b[1;32mis\u001b[0m \u001b[1;32mnot\u001b[0m \u001b[1;32mNone\u001b[0m \u001b[1;32mand\u001b[0m \u001b[0mkey_on\u001b[0m \u001b[1;32mis\u001b[0m \u001b[1;32mnot\u001b[0m \u001b[1;32mNone\u001b[0m\u001b[1;33m:\u001b[0m\u001b[1;33m\u001b[0m\u001b[1;33m\u001b[0m\u001b[0m\n\u001b[0;32m   1212\u001b[0m             \u001b[0mreal_values\u001b[0m \u001b[1;33m=\u001b[0m \u001b[0mnp\u001b[0m\u001b[1;33m.\u001b[0m\u001b[0marray\u001b[0m\u001b[1;33m(\u001b[0m\u001b[0mlist\u001b[0m\u001b[1;33m(\u001b[0m\u001b[0mcolor_data\u001b[0m\u001b[1;33m.\u001b[0m\u001b[0mvalues\u001b[0m\u001b[1;33m(\u001b[0m\u001b[1;33m)\u001b[0m\u001b[1;33m)\u001b[0m\u001b[1;33m)\u001b[0m\u001b[1;33m\u001b[0m\u001b[1;33m\u001b[0m\u001b[0m\n\u001b[1;32m-> 1213\u001b[1;33m             \u001b[0mreal_values\u001b[0m \u001b[1;33m=\u001b[0m \u001b[0mreal_values\u001b[0m\u001b[1;33m[\u001b[0m\u001b[1;33m~\u001b[0m\u001b[0mnp\u001b[0m\u001b[1;33m.\u001b[0m\u001b[0misnan\u001b[0m\u001b[1;33m(\u001b[0m\u001b[0mreal_values\u001b[0m\u001b[1;33m)\u001b[0m\u001b[1;33m]\u001b[0m\u001b[1;33m\u001b[0m\u001b[1;33m\u001b[0m\u001b[0m\n\u001b[0m\u001b[0;32m   1214\u001b[0m             \u001b[0m_\u001b[0m\u001b[1;33m,\u001b[0m \u001b[0mbin_edges\u001b[0m \u001b[1;33m=\u001b[0m \u001b[0mnp\u001b[0m\u001b[1;33m.\u001b[0m\u001b[0mhistogram\u001b[0m\u001b[1;33m(\u001b[0m\u001b[0mreal_values\u001b[0m\u001b[1;33m,\u001b[0m \u001b[0mbins\u001b[0m\u001b[1;33m=\u001b[0m\u001b[0mbins\u001b[0m\u001b[1;33m)\u001b[0m\u001b[1;33m\u001b[0m\u001b[1;33m\u001b[0m\u001b[0m\n\u001b[0;32m   1215\u001b[0m \u001b[1;33m\u001b[0m\u001b[0m\n",
      "\u001b[1;31mTypeError\u001b[0m: ufunc 'isnan' not supported for the input types, and the inputs could not be safely coerced to any supported types according to the casting rule ''safe''"
     ]
    }
   ],
   "source": [
    "map = folium.Map(location=[36.2002, 127.054], zoom_start=7)\n",
    "map.choropleth(geo_data = geoStr,\n",
    "              data= ,\n",
    "              columns= ,\n",
    "              fill_color='YlGnBu',\n",
    "              key_on='properties.name')\n",
    "map"
   ]
  },
  {
   "cell_type": "code",
   "execution_count": null,
   "metadata": {},
   "outputs": [],
   "source": []
  }
 ],
 "metadata": {
  "kernelspec": {
   "display_name": "Python 3",
   "language": "python",
   "name": "python3"
  },
  "language_info": {
   "codemirror_mode": {
    "name": "ipython",
    "version": 3
   },
   "file_extension": ".py",
   "mimetype": "text/x-python",
   "name": "python",
   "nbconvert_exporter": "python",
   "pygments_lexer": "ipython3",
   "version": "3.8.5"
  }
 },
 "nbformat": 4,
 "nbformat_minor": 4
}
